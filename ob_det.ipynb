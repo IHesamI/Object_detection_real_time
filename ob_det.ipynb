{
 "cells": [
  {
   "cell_type": "code",
   "execution_count": 1,
   "metadata": {},
   "outputs": [],
   "source": [
    "import cv2\n",
    "import numpy as np "
   ]
  },
  {
   "cell_type": "code",
   "execution_count": 7,
   "metadata": {},
   "outputs": [],
   "source": [
    "prototxt='./MobileNetSSD_deploy.prototxt'\n",
    "caffemodel='./MobileNetSSD_deploy.caffemodel'\n",
    "net=cv2.dnn.readNetFromCaffe(prototxt,caffemodel)\n"
   ]
  },
  {
   "cell_type": "code",
   "execution_count": 10,
   "metadata": {},
   "outputs": [],
   "source": [
    "# Prepare labels of the network (20 class labels + background):\n",
    "class_names = {0: 'background', 1: 'aeroplane', 2: 'bicycle', 3: 'bird', 4: 'boat', 5: 'bottle', 6: 'bus', 7: 'car',\n",
    "               8: 'cat', 9: 'chair', 10: 'cow', 11: 'diningtable', 12: 'dog', 13: 'horse', 14: 'motorbike',\n",
    "               15: 'person', 16: 'pottedplant', 17: 'sheep', 18: 'sofa', 19: 'train', 20: 'tvmonitor'}"
   ]
  },
  {
   "cell_type": "code",
   "execution_count": 20,
   "metadata": {},
   "outputs": [],
   "source": [
    "def processes_detection(image,detections):\n",
    "        # Size of frame resize (300x300)\n",
    "    dim = 300\n",
    "    # Process all detections:\n",
    "    for i in range(detections.shape[2]):\n",
    "        # Get the confidence of the prediction:\n",
    "        confidence = detections[0, 0, i, 2]\n",
    "        # Filter predictions by confidence:\n",
    "        if confidence > 0.4:\n",
    "            # Get the class label:\n",
    "            class_id = int(detections[0, 0, i, 1])\n",
    "            # Get the coordinates of the object location:\n",
    "            xLeftBottom = int(detections[0, 0, i, 3] * dim)\n",
    "            yLeftBottom = int(detections[0, 0, i, 4] * dim)\n",
    "            xRightTop = int(detections[0, 0, i, 5] * dim)\n",
    "            yRightTop = int(detections[0, 0, i, 6] * dim)\n",
    "            # Factor for scale to original size of frame\n",
    "            heightFactor = image.shape[0] / dim\n",
    "            widthFactor = image.shape[1] / dim\n",
    "            # Scale object detection to frame\n",
    "            xLeftBottom = int(widthFactor * xLeftBottom)\n",
    "            yLeftBottom = int(heightFactor * yLeftBottom)\n",
    "            xRightTop = int(widthFactor * xRightTop)\n",
    "            yRightTop = int(heightFactor * yRightTop)\n",
    "            # Draw rectangle:\n",
    "            cv2.rectangle(image, (xLeftBottom, yLeftBottom), (xRightTop, yRightTop), (0, 255, 0), 2)\n",
    "            # Draw label and confidence:\n",
    "            if class_id in class_names:\n",
    "                label = class_names[class_id] + \": \" + str(confidence)\n",
    "                labelSize, baseLine = cv2.getTextSize(label, cv2.FONT_HERSHEY_SIMPLEX, 1, 2)\n",
    "                yLeftBottom = max(yLeftBottom, labelSize[1])\n",
    "                cv2.rectangle(image, (xLeftBottom, yLeftBottom - labelSize[1]),\n",
    "                              (xLeftBottom + labelSize[0], yLeftBottom + 0), (0, 255, 0), cv2.FILLED)\n",
    "                cv2.putText(image, label, (xLeftBottom, yLeftBottom), cv2.FONT_HERSHEY_SIMPLEX, 1, (0, 0, 0), 5)\n",
    "    "
   ]
  },
  {
   "cell_type": "code",
   "execution_count": 24,
   "metadata": {},
   "outputs": [],
   "source": [
    "capture=cv2.VideoCapture(0)\n",
    "while True:\n",
    "    ret,frame=capture.read()\n",
    "    if ret:\n",
    "        blob = cv2.dnn.blobFromImage(frame, 0.007843, (300, 300), (127.5, 127.5, 127.5))\n",
    "        # Feed the input blob to the network, perform inference and get the output:\n",
    "        net.setInput(blob)\n",
    "        detections = net.forward()\n",
    "        processes_detection(frame,detections)\n",
    "\n",
    "        cv2.imshow('webcam',frame)\n",
    "        if cv2.waitKey(20) & 0xFF == ord('q'):\n",
    "            image=frame.copy()\n",
    "            break\n",
    "capture.release()\n",
    "cv2.destroyAllWindows()    \n",
    "# Create the blob with a size of (300,300), mean subtraction values (127.5, 127.5, 127.5):\n",
    "# and also a scalefactor of 0.007843:\n",
    "cv2.waitKey()\n",
    "cv2.destroyAllWindows()    \n",
    "\n"
   ]
  }
 ],
 "metadata": {
  "kernelspec": {
   "display_name": "Python 3.9.7 ('base')",
   "language": "python",
   "name": "python3"
  },
  "language_info": {
   "codemirror_mode": {
    "name": "ipython",
    "version": 3
   },
   "file_extension": ".py",
   "mimetype": "text/x-python",
   "name": "python",
   "nbconvert_exporter": "python",
   "pygments_lexer": "ipython3",
   "version": "3.9.7"
  },
  "orig_nbformat": 4,
  "vscode": {
   "interpreter": {
    "hash": "ab392ac59224d972ea7e6dac78f0a92692a36bfed70ec96bec5a0335d43e3470"
   }
  }
 },
 "nbformat": 4,
 "nbformat_minor": 2
}
